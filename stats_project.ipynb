{
 "cells": [
  {
   "cell_type": "markdown",
   "metadata": {},
   "source": [
    "# MDI220 Mini-projet \n",
    "### SUKERATHA Alexandre"
   ]
  },
  {
   "cell_type": "markdown",
   "metadata": {},
   "source": [
    "### Librairies utilisées :"
   ]
  },
  {
   "cell_type": "code",
   "execution_count": 154,
   "metadata": {},
   "outputs": [],
   "source": [
    "from math import *\n",
    "import numpy as np\n",
    "import pandas as pd\n",
    "import scipy.stats as stats\n",
    "import matplotlib.pyplot as plt"
   ]
  },
  {
   "cell_type": "markdown",
   "metadata": {},
   "source": [
    "## Exercice 1 : Exploration des données, recherche de leur loi"
   ]
  },
  {
   "cell_type": "markdown",
   "metadata": {},
   "source": [
    "### 1.1 Téléchargement des données et pré-processing"
   ]
  },
  {
   "cell_type": "code",
   "execution_count": 155,
   "metadata": {},
   "outputs": [
    {
     "name": "stdout",
     "output_type": "stream",
     "text": [
      "<class 'pandas.core.frame.DataFrame'>\n",
      "RangeIndex: 216 entries, 0 to 215\n",
      "Data columns (total 2 columns):\n",
      " #   Column                   Non-Null Count  Dtype  \n",
      "---  ------                   --------------  -----  \n",
      " 0   Date                     216 non-null    object \n",
      " 1   Cost (millions 2013US$)  175 non-null    float64\n",
      "dtypes: float64(1), object(1)\n",
      "memory usage: 3.5+ KB\n",
      "None\n"
     ]
    },
    {
     "data": {
      "text/html": [
       "<div>\n",
       "<style scoped>\n",
       "    .dataframe tbody tr th:only-of-type {\n",
       "        vertical-align: middle;\n",
       "    }\n",
       "\n",
       "    .dataframe tbody tr th {\n",
       "        vertical-align: top;\n",
       "    }\n",
       "\n",
       "    .dataframe thead th {\n",
       "        text-align: right;\n",
       "    }\n",
       "</style>\n",
       "<table border=\"1\" class=\"dataframe\">\n",
       "  <thead>\n",
       "    <tr style=\"text-align: right;\">\n",
       "      <th></th>\n",
       "      <th>Date</th>\n",
       "      <th>Cost (millions 2013US$)</th>\n",
       "    </tr>\n",
       "  </thead>\n",
       "  <tbody>\n",
       "    <tr>\n",
       "      <th>0</th>\n",
       "      <td>4/26/1986</td>\n",
       "      <td>259336.0</td>\n",
       "    </tr>\n",
       "    <tr>\n",
       "      <th>1</th>\n",
       "      <td>3/11/2011</td>\n",
       "      <td>166089.0</td>\n",
       "    </tr>\n",
       "    <tr>\n",
       "      <th>2</th>\n",
       "      <td>12/8/1995</td>\n",
       "      <td>15500.0</td>\n",
       "    </tr>\n",
       "    <tr>\n",
       "      <th>3</th>\n",
       "      <td>3/28/1979</td>\n",
       "      <td>10910.0</td>\n",
       "    </tr>\n",
       "    <tr>\n",
       "      <th>4</th>\n",
       "      <td>9/11/1957</td>\n",
       "      <td>8189.0</td>\n",
       "    </tr>\n",
       "  </tbody>\n",
       "</table>\n",
       "</div>"
      ],
      "text/plain": [
       "        Date  Cost (millions 2013US$)\n",
       "0  4/26/1986                 259336.0\n",
       "1  3/11/2011                 166089.0\n",
       "2  12/8/1995                  15500.0\n",
       "3  3/28/1979                  10910.0\n",
       "4  9/11/1957                   8189.0"
      ]
     },
     "execution_count": 155,
     "metadata": {},
     "output_type": "execute_result"
    }
   ],
   "source": [
    "# Téléchargement des données \n",
    "filePath = u'NuclearPowerAccidents2016.csv'\n",
    "colonnes = ['Date', 'Cost (millions 2013US$)']\n",
    "df = pd.read_csv(filePath, usecols=colonnes)\n",
    "\n",
    "# Quelques infos sur le dataframe\n",
    "print(df.info())\n",
    "df.head()\n"
   ]
  },
  {
   "cell_type": "code",
   "execution_count": 156,
   "metadata": {},
   "outputs": [
    {
     "name": "stdout",
     "output_type": "stream",
     "text": [
      "Test nombre d'observations : True\n"
     ]
    }
   ],
   "source": [
    "# Nettoyage des données - dropna()\n",
    "df.dropna(inplace=True)\n",
    "df['Date']=pd.to_datetime(df['Date'])\n",
    "\n",
    "# Suppression des données antérieures à l'accident :\"Three Mile Island\"\n",
    "TMI_accident_date = np.datetime64('1979-03-28')\n",
    "mask = df['Date']<TMI_accident_date\n",
    "filtered_df=df.loc[mask]\n",
    "\n",
    "# Conversion du dataframe en un vecteur\n",
    "accidents_array = np.array(filtered_df['Cost (millions 2013US$)'].values)\n",
    "\n",
    "# Vérification : nombre d'observations\n",
    "boolean_test = (len(accidents_array)==55)\n",
    "print(f'Test nombre d\\'observations : {boolean_test}')"
   ]
  },
  {
   "cell_type": "markdown",
   "metadata": {},
   "source": [
    "### 1.2 Construction d'un QQ-plot"
   ]
  },
  {
   "cell_type": "markdown",
   "metadata": {},
   "source": [
    "#### **1.2.a - preuve théorique**\n",
    "On s'intéresse à une variable aléatoire $ X\\hookrightarrow\\mathcal{N}(\\mu, \\sigma^2) $ .\n",
    "\n",
    "Sa fonction de répartition est : \n",
    "$$F_X(x)=\\frac{1}{2}[1+\\text{erf}(\\frac{x-\\mu}{\\sigma\\sqrt{2}})]$$\n",
    "\n",
    "$F_X$ étant strictement croissante, la fonction quantile de la loi normale peut s'exprimer : \n",
    "$$Q_X(p)=F_X^{-1}(x) \\space\\text{ avec, }\\space Q_X:\\left]0;1\\right[\n",
    " \\rightarrow \\R $$\n",
    "\n",
    "ainsi, \n",
    "$$p=\\frac{1}{2}[1+\\text{erf}(\\frac{x-\\mu}{\\sigma\\sqrt{2}})]$$\n",
    "d'où, \n",
    "$$\\text{erf}(\\frac{x-\\mu}{\\sigma\\sqrt{2}})=2p-1$$\n",
    "on en déduit par bijectivité de la fonction d'erreur que, \n",
    "$$\\frac{x-\\mu}{\\sigma\\sqrt{2}}=\\text{erf}^{-1}(2p-1)$$\n",
    "enfin, \n",
    "$$x=\\mu+\\sigma\\sqrt{2}*\\text{erf}^{-1}(2p-1)$$\n",
    "On en conclut que : \n",
    "$$F^{-1}_{(\\mu, \\sigma^2)}(p)=\\mu+\\sigma\\sqrt{2}*\\text{erf}^{-1}(2p-1)$$\n",
    "\n",
    "D'où, \n",
    "$$F^{-1}_{(0,1)}(p)=\\sqrt{2}*\\text{erf}^{-1}(2p-1)$$\n",
    "\n",
    "on retrouve donc bien, \n",
    "$$\\boxed{F^{-1}_{(\\mu, \\sigma^2)}=\\mu+\\sqrt{\\sigma^2} F^{-1}_{(0,1)}}$$\n"
   ]
  },
  {
   "cell_type": "markdown",
   "metadata": {},
   "source": [
    "#### **1.2.b - tracé graphique**"
   ]
  },
  {
   "cell_type": "code",
   "execution_count": 157,
   "metadata": {},
   "outputs": [
    {
     "data": {
      "image/png": "[encoded data removed]",
      "text/plain": [
       "<Figure size 432x288 with 1 Axes>"
      ]
     },
     "metadata": {
      "needs_background": "light"
     },
     "output_type": "display_data"
    }
   ],
   "source": [
    "# Tracé du QQ-plot\n",
    "stats.probplot(accidents_array, dist=\"norm\", plot=plt)\n",
    "\n",
    "# Définition des axes\n",
    "plt.title('QQ-plot : loi normale')\n",
    "plt.xlabel('Quantiles')\n",
    "plt.ylabel('Cost (millions 2013US$)')\n",
    "\n",
    "plt.show()\n",
    "plt.close()"
   ]
  },
  {
   "cell_type": "markdown",
   "metadata": {},
   "source": [
    "### 1.3 Modèle des lois exponentielles"
   ]
  },
  {
   "cell_type": "markdown",
   "metadata": {},
   "source": [
    "#### **1.3.a - preuve théorique**\n",
    "On s'intéresse à une variable aléatoire $ X\\hookrightarrow\\mathcal{E}(\\lambda) $ avec $\\lambda>0$.\n",
    "\n",
    "Sa fonction de répartition est :\n",
    "$$\n",
    "F_X(x) = \\left\\{\n",
    "    \\begin{array}{ll}\n",
    "        0 & \\text{ si } x<0 \\\\\n",
    "        1-e^{\\lambda x} & \\text{ si } x\\ge 0 \n",
    "    \\end{array}\n",
    "\\right.\n",
    "$$\n",
    "\n",
    "la fonction quantile de la loi exponentielle peut s'exprimer pour $p>0$ :\n",
    "$$Q_X(p)=F^{-1}_X(x)$$\n",
    "ainsi, \n",
    "$$p=1-e^{- \\lambda x}$$\n",
    "d'où, \n",
    "$$x=-\\frac{\\text{ln}(1-p)}{\\lambda}$$\n",
    "on en conclut que, \n",
    "$$F^{-1}_{\\lambda}(p)=-\\frac{1}{\\lambda}{ln}(1-p)$$\n",
    "en évaluant en $\\lambda=1$ on obtient,\n",
    "$$F^{-1}_{1}(p)=-{ln}(1-p)$$ \n",
    "on retrouve donc bien, \n",
    "$$\\boxed{\\forall p \\in (0,1) \\space ; \\space F^{-1}_{\\lambda}(p)=\\frac{F^{-1}_{1}(p)}{\\lambda}}$$"
   ]
  },
  {
   "cell_type": "markdown",
   "metadata": {},
   "source": [
    "#### **1.3.b - tracé graphique**"
   ]
  },
  {
   "cell_type": "code",
   "execution_count": 158,
   "metadata": {},
   "outputs": [
    {
     "data": {
      "image/png": "[encoded data removed]",
      "text/plain": [
       "<Figure size 432x288 with 1 Axes>"
      ]
     },
     "metadata": {
      "needs_background": "light"
     },
     "output_type": "display_data"
    }
   ],
   "source": [
    "# Tracé du QQ-plot\n",
    "stats.probplot(accidents_array, dist=\"expon\", plot=plt)\n",
    "\n",
    "# Définition des axes\n",
    "plt.title('QQ-plot : loi exponentielle')\n",
    "plt.xlabel('Quantiles')\n",
    "plt.ylabel('Cost (millions 2013US$)')\n",
    "\n",
    "plt.show()\n",
    "plt.close()"
   ]
  },
  {
   "cell_type": "markdown",
   "metadata": {},
   "source": [
    "### 1.4 Evaluation de la loi la plus plausible\n",
    "Graphiquement, le modèle numéro 2 (loi exponentielle) se rapproche plus d'une droite que le modèle numéro 1. La loi exponentielle semble plus plausible que la loi normale dans l'exemple considéré. \n"
   ]
  },
  {
   "cell_type": "markdown",
   "metadata": {},
   "source": [
    "## Exercice 2 : Estimation ponctuelle des paramètres d'une loi exponentielle"
   ]
  },
  {
   "cell_type": "markdown",
   "metadata": {},
   "source": [
    "### 2.1 Calcul de l'estimateur du maximum de vraisemblance\n",
    "Par continuité de la loi exponentielle et indépendance des $X_i$ pour $i\\in\\{1,...,n\\}$ on obtient :\n",
    "$$L(x_1,...,x_n;\\lambda)=\\prod_{i=1}^n \\lambda e^{-\\lambda x_i}=\\lambda^n e^{-\\lambda \\sum x_i}$$\n",
    "On peut ainsi exprimer la log-vraisemblance :\n",
    "$$\\text{ln}(L(x_1,...,x_n;\\lambda))=n\\log(\\lambda) - \\lambda\\sum_{i=1}^{n} x_i\\$$\n",
    "Pour estimer le maximum de vraisemblance, il convient de dériver partiellement la dernière expression par rapport à $\\lambda$ :\n",
    "$$\\frac{\\partial \\text{ln}(L(x_1,...,x_n;\\lambda))}{\\partial \\lambda}=\\frac{n}{\\lambda}-\\sum_{i=1}^{n} x_i$$\n",
    "On recherche maintenant un point d'annulation $\\lambda_0$ de l'expression : \n",
    "$$\\frac{n}{\\lambda_0}-\\sum_{i=1}^{n} x_i=0$$\n",
    "ce qui donne, \n",
    "$$\\lambda_0=\\frac{n}{\\sum_{i=1}^{n} x_i}$$\n",
    "Il reste maintenant à vérifier que ce point d'annulation correspond bel et bien à un maximum. Pour cela on calcule la dérivée seconde de la log-vraisemblance :\n",
    "$$\\frac{\\partial^2 \\text{ln}(L(x_1,...,x_n;\\lambda))}{\\partial^2 \\lambda}=-\\frac{n}{\\lambda^2}$$\n",
    "La dérivée seconde étant négative. On conclut que ce point d'annulation correspond à un maximum. On peut ainsi conclure le calcul de l'estimateur du maximum de vraisemblance $\\hat{\\lambda}_n$:\n",
    "$$\\boxed{\\hat{\\lambda}_n=\\frac{n}{\\sum_{i=1}^{n} x_i}}$$\n",
    "On peut maintenant appliquer notre estimateur au set de données :"
   ]
  },
  {
   "cell_type": "code",
   "execution_count": 159,
   "metadata": {},
   "outputs": [],
   "source": [
    "# Fonction : estimateur du maximum de vraisemblance\n",
    "decimals = 5\n",
    "\n",
    "def estimateur_max_vrai(data_array): \n",
    "    return round(len(data_array)/(data_array.sum()),decimals)"
   ]
  },
  {
   "cell_type": "code",
   "execution_count": 173,
   "metadata": {},
   "outputs": [
    {
     "name": "stdout",
     "output_type": "stream",
     "text": [
      "lambda estimé par la méthode du maximum de vraisemblance : 0.00138\n"
     ]
    }
   ],
   "source": [
    "# Calcul lambda estimation ponctuelle\n",
    "lambda_max_vr = estimateur_max_vrai(accidents_array)\n",
    "print(f'lambda estimé par la méthode du maximum de vraisemblance : {lambda_max_vr}')"
   ]
  },
  {
   "cell_type": "markdown",
   "metadata": {},
   "source": [
    "### 2.2 Tracé graphique"
   ]
  },
  {
   "cell_type": "code",
   "execution_count": 174,
   "metadata": {},
   "outputs": [
    {
     "data": {
      "image/png": "[encoded data removed]",
      "text/plain": [
       "<Figure size 432x288 with 1 Axes>"
      ]
     },
     "metadata": {
      "needs_background": "light"
     },
     "output_type": "display_data"
    }
   ],
   "source": [
    "# Histogramme des données \n",
    "plt.hist(accidents_array, density=True)\n",
    "\n",
    "# Densité de probabilité de la loi exponentielle\n",
    "x = np.linspace(0,8500)\n",
    "y = lambda_max_vr*np.exp(-lambda_max_vr*x)\n",
    "plt.plot(x,y)\n",
    "\n",
    "# Définition des axes \n",
    "plt.title('histogramme & densité de probabilité')\n",
    "plt.xlabel('Cost (millions 2013US$)')\n",
    "\n",
    "plt.show()\n",
    "plt.close()"
   ]
  },
  {
   "cell_type": "markdown",
   "metadata": {},
   "source": [
    "### 2.3 Efficacité de l'estimateur\n",
    "On considère $X=(X_1,...,X_n)$, où les $X_i$ sont indépendants, identiquement distribués, de loi exponentielle $\\mathcal{E}(\\lambda)$.\n",
    "\n",
    "On note $T_1(X)=\\frac{1}{n}\\sum_{i=1}^nX_i$. Montrons que $T_1(X)$ est un estimateur efficace pour $g_1(\\lambda)=\\frac{1}{\\lambda}$.\n",
    "\n",
    "#### **2.3.a - Estimateur sans biais**\n",
    "On a, \n",
    "$$\\mathbb{E}_\\lambda[T_1(X)]=\\frac{1}{n}\\sum_{i=1}^n\\mathbb{E}_\\lambda(X_i)=\\frac{1}{n}*\\frac{n}{\\lambda}=\\frac{1}{\\lambda}$$\n",
    "On en déduit que, \n",
    "$$\\boxed{b(\\lambda,T_1)=\\mathbb{E}_\\lambda [T_1 - g_1(\\lambda)]=0}$$\n",
    "Conclusion, l'estimateur est sans biais. \n",
    "\n",
    "#### **2.3.b - Borne de Cramér-Rao**\n",
    "Calculons dans un premier temps l'information de Fisher $I(\\lambda)$. Pour $n=1$ observation, la densité de probabilité est $p_\\lambda(x)=\\lambda e^{-\\lambda x}$. On en déduit le score, \n",
    "$$\\frac{\\partial \\text{ln}p_\\lambda}{\\partial \\lambda}(x)=\\frac{1}{\\lambda}-x$$\n",
    "et ainsi, l'information de Fisher :\n",
    "$$I_1(\\lambda)=\\frac{1}{\\lambda^2}$$\n",
    "Pour $n$ observations, l'information de Fisher est donc :\n",
    "$$\\boxed{I(\\lambda)=nI_1(\\lambda)=\\frac{n}{\\lambda^2}}$$\n",
    "\n",
    "On calcule à présent la variance de l'estimateur $T_1$ :\n",
    "$$\\mathbb{V}\\text{ar}\\left[T_1(X) \\right] = \\mathbb{V}\\text{ar}\\left( n^{-1}\\sum_{i=1}^nX_i\\right)$$\n",
    "d'où,\n",
    "$$\\mathbb{V}\\text{ar}\\left[T_1(X) \\right]=n^{-2}\\sum_{i=1}^n\\mathbb{V}\\text{ar}(X_i)=n^{-1}\\mathbb{V}\\text{ar}(X)$$\n",
    "ainsi,\n",
    "$$\\mathbb{V}\\text{ar}\\left[T_1(X) \\right]=n^{-1}(\\mathbb{E}(X^2)-\\mathbb{E}(X)^2)=n^{-1}(\\frac{2}{\\lambda^2}-\\frac{1}{\\lambda^2})$$\n",
    "on en conclut que, \n",
    "$$\\boxed{\\mathbb{V}\\text{ar}\\left[T_1(X) \\right]=\\frac{1}{n\\lambda^2}}$$\n",
    "\n",
    "Enfin, on a : \n",
    "$$g_1'(\\lambda)=-\\frac{1}{\\lambda^2}\\implies g_1'(\\lambda)^2=\\frac{1}{\\lambda^4}$$\n",
    "\n",
    "La borne de Cramér-Rao est ainsi vérifiée : \n",
    "$$\\boxed{\\frac{1}{n\\lambda^2}=\\mathbb{V}\\text{ar}\\left[T_1(X) \\right]\\ge \\frac{g_1'(\\lambda)^2}{I(\\lambda)}=\\frac{1}{n\\lambda^2}}$$\n",
    "\n",
    "Conclusion, l'estimateur $T_1$ est efficace. "
   ]
  },
  {
   "cell_type": "markdown",
   "metadata": {},
   "source": [
    "### 2.4 Calcul de $g_1$ en utilisant $T_1$ sur l'échantillon"
   ]
  },
  {
   "cell_type": "code",
   "execution_count": 111,
   "metadata": {},
   "outputs": [],
   "source": [
    "decimal = 3\n",
    "def T1(data_array): \n",
    "    return round(data_array.sum()/len(data_array),decimal)"
   ]
  },
  {
   "cell_type": "code",
   "execution_count": 121,
   "metadata": {},
   "outputs": [
    {
     "name": "stdout",
     "output_type": "stream",
     "text": [
      "Estimation de g1 en utilisant T1: 726.34\n"
     ]
    }
   ],
   "source": [
    "g1_T1 = T1(accidents_array)\n",
    "print(f'Estimation de g1 en utilisant T1: {g1_T1}')"
   ]
  },
  {
   "cell_type": "markdown",
   "metadata": {},
   "source": [
    "### 2.5 Analyse d'un nouvel estimateur\n",
    "On a déjà prouvé pour l'estimateur $T_1$ que :\n",
    "$$\\boxed{\\mathbb{E}[T_1(X)] = \\frac{1}{\\lambda}}$$\n",
    "$$\\boxed{\\mathbb{V}\\text{ar}[T_1(X)] =\\frac{1}{n\\lambda^2}}$$\n",
    "On en déduit le biais et le risque associé à l'estimateur, \n",
    "$$b(\\lambda,T_1)=0$$\n",
    "$$\\text{EQM}(\\lambda, T_1)=(b(\\lambda,T_1))^2+\\mathbb{V}\\text{ar}[T_1(X)]=\\frac{1}{n\\lambda^2}$$\n",
    "\n",
    "Appliquons le même raisonnement au nouvel estimateur. On commence par chercher son espérance et sa variance :\n",
    "$$\\mathbb{E}[\\tilde{T}_{(1,\\eta)}(X)]=\\mathbb{E}[\\eta T_1(X)]=\\eta\\mathbb{E}[T_1(X)]$$\n",
    "ainsi, \n",
    "$$\\boxed{\\mathbb{E}[\\tilde{T}_{(1,\\eta)}(X)]=\\frac{\\eta}{\\lambda}}$$\n",
    "On a de même, \n",
    "$$\\mathbb{V}\\text{ar}[\\tilde{T}_{(1,\\eta)}(X)]=\\mathbb{V}\\text{ar}[\\eta T_1(X)]=\\eta^2\\mathbb{V}\\text{ar}[T_1(X)]$$\n",
    "ainsi, \n",
    "$$\\boxed{\\mathbb{V}\\text{ar}[\\tilde{T}_{(1,\\eta)}(X)]=\\frac{\\eta^2}{n\\lambda^2}}$$\n",
    "On en déduit le biais et le risque associé à l'estimateur, \n",
    "$$b(\\lambda,\\tilde{T}_1)=\\mathbb{E}[\\tilde{T}_{(1,\\eta)}(X)]-g(\\lambda)=\\frac{\\eta-1}{\\lambda}$$\n",
    "$$\\text{EQM}(\\lambda, \\tilde{T}_1)=\\mathbb{V}\\text{ar}[\\tilde{T}_{(1,\\eta)}(X)]+b(\\lambda,\\tilde{T}_1)^2=\\frac{1}{\\lambda^2}(\\frac{\\eta^2}{n}+ \\eta^2-2\\eta+1)$$\n",
    "On cherche les $\\eta$ tel que $\\forall \\lambda>0, \\text{EQM}(\\lambda, \\tilde{T}_1)<\\text{EQM}(\\lambda, T_1)$. \n",
    "\n",
    "Ainsi, on cherche l'ensemble des $\\eta$ vérifiant :\n",
    "$$\\frac{1}{\\lambda^2}(\\frac{\\eta^2}{n}+ \\eta^2-2\\eta+1)<\\frac{1}{n\\lambda^2}$$\n",
    "d'où, \n",
    "$$\\eta^2+n\\eta^2-2n\\eta+n<1$$\n",
    "on obtient, \n",
    "$$\\eta^2(n+1)-2n\\eta+(n-1)<0$$\n",
    "La résolution de cette inéquation du second degré nous donne :\n",
    "$$\\boxed{\\frac{n-1}{n+1}<\\eta<1}$$\n",
    "On a ainsi déterminé les valeurs de $\\eta$ pour lesquelles l'inéquation des risques quadratiques est vérifiée.\n",
    "Ce résultat ne rentre pas en contradiction avec la question précédente, nous avons seulement déterminé un autre estimateur plus intéressant du point de vue du risque quadratique sur l'intervalle des $\\eta$. Ceci ne remet pas en cause les propriétés de $T_1$ comme déterminées précédemment.\n"
   ]
  },
  {
   "cell_type": "markdown",
   "metadata": {},
   "source": [
    "### 2.6 Estimateur sans biais de la médiane\n",
    "On note $m$ la médiane, on a donc : \n",
    "$$\\mathbb{P}_\\lambda(X>m)=\\frac{1}{2}$$\n",
    "ainsi, \n",
    "$$e^{-\\lambda m}=\\frac{1}{2} \\implies m = \\frac{\\text{ln}(2)}{\\lambda}$$\n",
    "Nous cherchons à estimer la grandeur d'intérêt $g_2(\\lambda)=\\frac{\\text{ln}(2)}{\\lambda}=m$ à l'aide de l'estimateur $\\tilde{T}_{(1,\\eta)}$ et tel que celui-ci soit sans biais, $b(\\lambda, \\tilde{T}_{(1,\\eta)})=0$.\n",
    "\n",
    "Ainsi, on veut : \n",
    "$$b(\\lambda, \\tilde{T}_{(1,\\eta)})=\\mathbb{E}[\\tilde{T}_{(1,\\eta)}]-\\frac{\\text{ln}(2)}{\\lambda}=0$$\n",
    "d'où, \n",
    "$$\\mathbb{E}[\\tilde{T}_{(1,\\eta)}]=\\frac{\\text{ln}(2)}{\\lambda}$$\n",
    "on peut enfin conclure que, \n",
    "$$\\boxed{\\frac{\\eta}{\\lambda}=\\frac{\\text{ln}(2)}{\\lambda}\\implies \\eta=\\text{ln}(2)}$$"
   ]
  },
  {
   "cell_type": "code",
   "execution_count": 163,
   "metadata": {},
   "outputs": [
    {
     "name": "stdout",
     "output_type": "stream",
     "text": [
      "médiane avec estimateur : 502.3\n",
      "médiane empirique : 89.9\n",
      "pourcentage de variation : 82.1%\n"
     ]
    }
   ],
   "source": [
    "# Estimateur sans biais de la médiane\n",
    "est_sb_med = round(np.log(2)*(1/lambda_max_vr), 1)\n",
    "print(f'médiane avec estimateur : {est_sb_med}')\n",
    "\n",
    "# Médiane empirique\n",
    "med_emp = np.median(accidents_array)\n",
    "print(f'médiane empirique : {med_emp}')\n",
    "\n",
    "# Pourcentage de variation \n",
    "prc_diff = round(100*(est_sb_med - med_emp)/est_sb_med, 1)\n",
    "print(f'pourcentage de variation : {prc_diff}%')\n"
   ]
  },
  {
   "cell_type": "markdown",
   "metadata": {},
   "source": [
    "Cette différence notable entre les deux résultats s'explique par la qualité des échantillons. En effet si l'on se réferre à l'histogramme, on observe une quantité non négligeable d'observations égales à 0. "
   ]
  },
  {
   "cell_type": "markdown",
   "metadata": {},
   "source": [
    "### 2.7 Comparaison des risques quadratiques\n",
    "On applique ici les formules des risques des estimateurs comme déterminées à la question 2.5 :\n",
    "$$\\text{EQM}(\\lambda, \\tilde{T}_1)=\\frac{1}{\\lambda^2}(\\frac{\\eta^2}{n}+ \\eta^2-2\\eta+1)$$\n",
    "et, \n",
    "$$\\text{EQM}(\\lambda, T_1)=\\frac{1}{n\\lambda^2}$$\n",
    "de plus on a, \n",
    "$$ \\eta=\\text{ln}(2) \\text{ et }n=55 \\text{ (échantillon d'étude)}$$\n",
    "On peut donc s'attaquer directement au calcul numérique :"
   ]
  },
  {
   "cell_type": "code",
   "execution_count": 164,
   "metadata": {},
   "outputs": [],
   "source": [
    "decimal = 2\n",
    "def EQM_T1(lmbda, n): \n",
    "    return round(1/(n*lmbda**2),decimal)\n",
    "\n",
    "def EQM_T1_tilde(eta, lmbda, n):\n",
    "    return round(1/(lmbda**2)*((eta**2)/n+eta**2-2*eta+1),decimal)"
   ]
  },
  {
   "cell_type": "code",
   "execution_count": 165,
   "metadata": {},
   "outputs": [
    {
     "name": "stdout",
     "output_type": "stream",
     "text": [
      "risque quadratique de T1 : 9547.27\n",
      "risque quadratique de T1_tilde : 54029.7\n"
     ]
    }
   ],
   "source": [
    "eta = np.log(2)\n",
    "lmbda = lambda_max_vr\n",
    "n = 55\n",
    "\n",
    "print(f'risque quadratique de T1 : {EQM_T1(lmbda,n)}')\n",
    "print(f'risque quadratique de T1_tilde : {EQM_T1_tilde(eta, lmbda, n)}')"
   ]
  },
  {
   "cell_type": "markdown",
   "metadata": {},
   "source": [
    "Le risque quadratique de $T_1$ est plus faible que celui de $\\tilde{T_1}$ pour l'échantillon d'étude $n=55$.$\\\\$\n",
    "Observons comment celui-ci évolue en fonction de $n$ :"
   ]
  },
  {
   "cell_type": "code",
   "execution_count": 187,
   "metadata": {},
   "outputs": [
    {
     "data": {
      "image/png": "[encoded data removed]",
      "text/plain": [
       "<Figure size 432x288 with 1 Axes>"
      ]
     },
     "metadata": {
      "needs_background": "light"
     },
     "output_type": "display_data"
    }
   ],
   "source": [
    "# Paramètres\n",
    "n_arange = np.arange(1,60,1)\n",
    "\n",
    "# Tracé graphique\n",
    "plt.plot(n_arange, [EQM_T1(lambda_max_vr, t) for t in n_arange], label=\"EQM_T1\")\n",
    "plt.plot(n_arange, [EQM_T1_tilde(eta, lambda_max_vr, t) for t in n_arange], label=\"EQM_T1_tilde\")\n",
    "\n",
    "# Définition des axes\n",
    "plt.title(\"comparaison des risques quadratiques\")\n",
    "plt.legend(loc=\"upper right\")\n",
    "\n",
    "plt.show()\n",
    "plt.close()"
   ]
  },
  {
   "cell_type": "markdown",
   "metadata": {},
   "source": [
    "## Exercice 3 : Test sur le paramètre d'une loi"
   ]
  },
  {
   "cell_type": "markdown",
   "metadata": {},
   "source": [
    "### 3.1 Formulation des hypothèses\n",
    "On raisonne sur le coût moyen : $\\mathbb{E}(X)$\n",
    "* **Hypothèse Null** ; $H_0 : \\mathbb{E}(X)\\ge1000$ donc $H_0 : \\frac{1}{\\lambda} \\ge 1000$\n",
    "* **Hypothèse Alternative** ; $H_1 : \\mathbb{E}(X)<1000$ donc $H_1 : \\frac{1}{\\lambda} < 1000$"
   ]
  },
  {
   "cell_type": "markdown",
   "metadata": {},
   "source": [
    "### 3.2 Principe de Neyman-Pearson \n",
    "On peut déterminer le test UPP pour le niveau $\\alpha$ en utilisant la fonction de vraisemblance monotone. On pose $T$ la fonction de décision et $f$ notre fonction monotone. On a alors,\n",
    "\n",
    "$$\\forall \\lambda_2 > \\lambda_1 \\space,\\space Z_{\\lambda_2,\\lambda_1}(x) = \\frac{p_{\\lambda_2}(x)}{p_{\\lambda_1}(x)} = f(T(x))$$\n",
    "\n",
    "\n",
    "\n",
    "La variable $X$ suivant la loi $\\mathcal{E}(\\lambda)$ : $p_\\lambda(x) = \\lambda e^{-\\lambda x}$.\n",
    "On a donc,\n",
    "$$P_\\lambda(X) = \\lambda^n e^{-\\lambda \\sum _{i=1} ^n x_i}= \\lambda^n e^{-\\lambda W(x)}\\space \\text{ avec, } W(X) = \\sum _{i=1} ^n x_i$$\n",
    "\n",
    "\n",
    "On obtient ainsi la fonction de vraisemblance suivante :\n",
    "$$Z_{\\lambda_2, \\lambda_1}(X) = \\left(\\frac{\\lambda_2}{\\lambda_1}\\right)^n e^{(\\lambda_1 - \\lambda_2)W(X)}$$\n",
    "\n",
    "On a : $\\lambda_1 - \\lambda_2 <0$. Ainsi, $Z_{\\lambda_2, \\lambda_1}$ est décroissante monotone. Notre fonction de décision pour le test UPP pour le niveau  $\\alpha$ est donc:\n",
    "\n",
    "$$\\delta(X) = \\bm{1}_{\\{ W(X) < c \\}} \\space \\text{avec }c\\text{ une constante}$$\n",
    "\n"
   ]
  },
  {
   "cell_type": "markdown",
   "metadata": {},
   "source": [
    "### 3.3 Détermination de la p-valeur\n",
    "On sait que les $(X_i)_{1\\le i\\le n}$ sont iid et suivent la même loi $\\mathcal{E}(\\lambda)$.\n",
    "On peut donc affirmer que :\n",
    "$$\\sum_{i=1}^n X_i \\hookrightarrow \\Gamma\\left(n,\\frac{1}{\\lambda}\\right)$$\n",
    "Il ne reste plus qu'à déterminer le quantile de la loi $\\Gamma\\left(n,\\frac{1}{\\lambda}\\right)$ pour $\\alpha=0.05$ et ainsi conclure sur la région de rejet.\n"
   ]
  },
  {
   "cell_type": "code",
   "execution_count": 57,
   "metadata": {},
   "outputs": [
    {
     "name": "stdout",
     "output_type": "stream",
     "text": [
      "p-valeur : 0.014\n"
     ]
    }
   ],
   "source": [
    "# Calcul de la p-valeur\n",
    "p_valeur = round(stats.gamma.cdf(x=accidents_array.sum(), a=accidents_array.size, scale=1000), 3)\n",
    "\n",
    "print(f'p-valeur : {p_valeur}')"
   ]
  },
  {
   "cell_type": "markdown",
   "metadata": {},
   "source": [
    "Ainsi, on a : $\\text{p-valeur} < \\alpha \\\\$ \n",
    "On peut donc rejeter l'hypothèse null. Conclusion, le coût moyen des accidents est inférieur à un milliard de dollars."
   ]
  },
  {
   "cell_type": "markdown",
   "metadata": {},
   "source": [
    "### 3.4 Densité de probabilité et région de rejet"
   ]
  },
  {
   "cell_type": "code",
   "execution_count": 166,
   "metadata": {},
   "outputs": [
    {
     "data": {
      "image/png": "[encoded data removed]",
      "text/plain": [
       "<Figure size 432x288 with 1 Axes>"
      ]
     },
     "metadata": {
      "needs_background": "light"
     },
     "output_type": "display_data"
    }
   ],
   "source": [
    "# Paramètres \n",
    "n = 55\n",
    "alpha = 0.05\n",
    "x = np.arange(500, 1700)\n",
    "gamma = stats.gamma(n, scale=1000)\n",
    "quantile = gamma.ppf(alpha)/n\n",
    "quantile_p = gamma.ppf(p_valeur)/n\n",
    "\n",
    "# Tracé graphique \n",
    "plt.plot(x, gamma.pdf(x*n), label=\"Gamma distribution\")\n",
    "plt.axvline(accidents_array.mean(), label=\"Data mean\", color='green')\n",
    "plt.axvspan(500, quantile, color=\"red\", label=\"Reject region for H0\", alpha=0.5)\n",
    "\n",
    "# Légendes\n",
    "plt.legend(loc=\"upper right\")\n",
    "plt.title(\"Densité de probabilité et région de rejet\")\n",
    "\n",
    "plt.show()\n",
    "plt.close()"
   ]
  },
  {
   "cell_type": "markdown",
   "metadata": {},
   "source": [
    "### 3.5 Fonction puissance de test\n",
    "On trace la fonction puissance de test pour des tailles d'échantillon choisies arbitrairement : $n\\in\\{10, 100, 1000, 5000\\}$"
   ]
  },
  {
   "cell_type": "code",
   "execution_count": 169,
   "metadata": {},
   "outputs": [
    {
     "data": {
      "image/png": "[encoded data removed]",
      "text/plain": [
       "<Figure size 432x288 with 1 Axes>"
      ]
     },
     "metadata": {
      "needs_background": "light"
     },
     "output_type": "display_data"
    }
   ],
   "source": [
    "liste_taille_echantillons = [10, 100, 1000, 5000]\n",
    "lambdas = np.arange(1,999,1)\n",
    "alpha = 0.05\n",
    "\n",
    "for n in liste_taille_echantillons:\n",
    "    ppf_n = stats.gamma.ppf(alpha, n, scale=1000)\n",
    "    gamma_lambdas = [stats.gamma.cdf(ppf_n,n,scale = x) for x in lambdas]\n",
    "    plt.plot(lambdas, gamma_lambdas, label=f'n = {n}')\n",
    "\n",
    "plt.title('Fonction puissance de test pour différents n')\n",
    "plt.xlabel('Cost (millions 2013US$)')\n",
    "plt.legend(loc=\"lower left\")\n",
    "\n",
    "plt.show()\n",
    "plt.close()"
   ]
  },
  {
   "cell_type": "markdown",
   "metadata": {},
   "source": [
    "### 3.6 Théorème central limite\n",
    "D'après le **théorème centrale limite**, une somme de variables aléatoires indépendantes et identiquement distribuées tend, le plus souvent, vers une variable aléatoire gaussienne. \n",
    "\n",
    "Ainsi, on obtiendrait une distribution qui se rapprocherait d'une distribution normale avec l'augmentation du nombre d'échantillons observés.\n",
    "\n",
    "On peut envisager de refaire le test comme à la question 3.4 en utilisant cette fois-ci la loi normale : $\\mathcal{N}(\\frac{1}{\\lambda}, \\frac{1}{n\\lambda^2})$"
   ]
  },
  {
   "cell_type": "code",
   "execution_count": 172,
   "metadata": {},
   "outputs": [
    {
     "data": {
      "image/png": "[encoded data removed]",
      "text/plain": [
       "<Figure size 432x288 with 1 Axes>"
      ]
     },
     "metadata": {
      "needs_background": "light"
     },
     "output_type": "display_data"
    }
   ],
   "source": [
    "# Paramètres \n",
    "n = 55\n",
    "alpha = 0.05\n",
    "x = np.arange(500, 1700)\n",
    "mean = 1000\n",
    "variance = (mean**2)/n\n",
    "normale = stats.norm(loc=mean, scale=np.sqrt(variance))\n",
    "\n",
    "# Tracé graphique \n",
    "plt.plot(x, normale.pdf(x), label=\"Normal distribution\")\n",
    "plt.axvline(accidents_array.mean(), label=\"Data mean\", color='green')\n",
    "plt.axvspan(500, normale.ppf(alpha), color=\"red\", label=\"Reject region\", alpha=0.5)\n",
    "\n",
    "# Légendes\n",
    "plt.legend(loc=\"upper right\")\n",
    "plt.title(\"Densité de probabilité et région de rejet\")\n",
    "\n",
    "plt.show()\n",
    "plt.close()"
   ]
  },
  {
   "cell_type": "markdown",
   "metadata": {},
   "source": [
    "Conclusion, l'hypothèse $H_0$ est de nouveau rejetée."
   ]
  }
 ],
 "metadata": {
  "kernelspec": {
   "display_name": "Python 3.9.12 ('base')",
   "language": "python",
   "name": "python3"
  },
  "language_info": {
   "codemirror_mode": {
    "name": "ipython",
    "version": 3
   },
   "file_extension": ".py",
   "mimetype": "text/x-python",
   "name": "python",
   "nbconvert_exporter": "python",
   "pygments_lexer": "ipython3",
   "version": "3.9.12"
  },
  "orig_nbformat": 4,
  "vscode": {
   "interpreter": {
    "hash": "277d713a2869ad522e0f58de96fa3cb2620734b34dd3b3afd7f1966d69d2580f"
   }
  }
 },
 "nbformat": 4,
 "nbformat_minor": 2
}
